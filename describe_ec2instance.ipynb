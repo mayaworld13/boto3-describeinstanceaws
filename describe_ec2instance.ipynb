{
 "cells": [
  {
   "cell_type": "code",
   "execution_count": 3,
   "id": "bc4e23d4",
   "metadata": {},
   "outputs": [
    {
     "name": "stdout",
     "output_type": "stream",
     "text": [
      "Instance ID: i-0804c226fd3fb41e3\n",
      "Instance State: running\n",
      "Instance Type: t2.micro\n",
      "Public DNS: ec2-13-126-85-65.ap-south-1.compute.amazonaws.com\n",
      "Private IP: 172.31.33.60\n"
     ]
    }
   ],
   "source": [
    "import boto3\n",
    "\n",
    "# Initialize the EC2 client\n",
    "ec2 = boto3.client('ec2', region_name=\"ap-south-1\")\n",
    "\n",
    "\n",
    "# Describe the instance\n",
    "response = ec2.describe_instances(InstanceIds=[\"i-0804c226fd3fb41e3\"])\n",
    "\n",
    "# Extract instance details\n",
    "instance = response['Reservations'][0]['Instances'][0]\n",
    "\n",
    "# Print instance information\n",
    "print(\"Instance ID:\", instance['InstanceId'])\n",
    "print(\"Instance State:\", instance['State']['Name'])\n",
    "print(\"Instance Type:\", instance['InstanceType'])\n",
    "print(\"Public DNS:\", instance.get('PublicDnsName', 'N/A'))\n",
    "print(\"Private IP:\", instance['PrivateIpAddress'])\n",
    "\n"
   ]
  },
  {
   "cell_type": "code",
   "execution_count": null,
   "id": "4e679aa9",
   "metadata": {},
   "outputs": [],
   "source": []
  }
 ],
 "metadata": {
  "kernelspec": {
   "display_name": "Python 3",
   "language": "python",
   "name": "python3"
  },
  "language_info": {
   "codemirror_mode": {
    "name": "ipython",
    "version": 3
   },
   "file_extension": ".py",
   "mimetype": "text/x-python",
   "name": "python",
   "nbconvert_exporter": "python",
   "pygments_lexer": "ipython3",
   "version": "3.10.9"
  }
 },
 "nbformat": 4,
 "nbformat_minor": 5
}
